{
 "cells": [
  {
   "cell_type": "markdown",
   "metadata": {},
   "source": [
    "# Telco Customer Churn \n",
    " By Nadya Sindi Safitri\n"
   ]
  },
  {
   "cell_type": "markdown",
   "metadata": {},
   "source": [
    "## Business Problem Understanding"
   ]
  },
  {
   "cell_type": "markdown",
   "metadata": {},
   "source": [
    "**Context**  \n",
    "Sebuah perusahaan yang bergerak di bidang Telekomunikasi ingin menarik lebih banyak pelanggan baru dan menghindari pemutusan kontrak dari pelanggan yang ada (Customer Churn). Perusahaan tersebut ingin memprediksi apakah seorang customer akan churn, sehingga mereka dapat mengurangi hal tersebut dengan memberikan treatment yang sesuai kepada Pelanggan yang ada.\n",
    "\n",
    "Target :\n",
    "\n",
    "0 : Customer tidak Churn \n",
    "\n",
    "1 : Customer Churn"
   ]
  },
  {
   "cell_type": "markdown",
   "metadata": {},
   "source": [
    "**Problem Statement :**\n",
    "\n",
    "Faktor yang menyebabkan Customer Churn yaitu penawaran harga yang lebih baik, layanan internet yang lebih cepat dari perusahaan lain dan pengalaman layanan yang buruk atau perubahan situasi pribadi pelanggan. Perusahaan ingin mengetahui pelanggan mana yang ingin Churn atau tidak untuk mengetahui seberapa baik perusahaan mempertahankan pelanggan yang ada dan memahami apa alasan yang menyebabkan pelanggan mengakhiri kontrak mereka (tingkat churn yang tinggi). Perusahaan lebih memutuskan mempertahankan pelanggan, karena dibutuhkan biaya lebih sedikit daripada mencari pelanggan baru.\n",
    "\n",
    "\n",
    "**Goals :**\n",
    "\n",
    "Berdasarkan permasalahan tersebut, perusahaan ingin memprediksi pelanggan yang akan melakukan Churn akan memudahkan perusahaan memberikan treatment kepada pelanggan seperti memberikan diskon, penawaran khusus, dan produk unggulan untuk menjaga pelanggan saat ini.\n",
    "\n",
    "Dan juga, perusahaan ingin mengetahui apa/faktor/variabel apa yang membuat seorang pelanggan mau Churn atau tidak, sehingga perusahaan dapat membuat rencana yang lebih baik dalam menarik lebih banyak pelanggan baru.\n",
    "\n",
    "**Analytic Approach :**\n",
    "\n",
    "Jadi yang akan kita lakukan adalah menganalisis data untuk menemukan pola yang membedakan pelanggan yang churn atau tidak.\n",
    "\n",
    "Kemudian kita akan membangun model klasifikasi yang akan membantu perusahaan untuk dapat memprediksi probabilitas pelanggan akan/ingin memutuskan kontrak dengan perusahaan atau tidak.\n",
    "\n",
    "<br>**References :**\n",
    "- https://medium.com/analytics-vidhya/accuracy-vs-f1-score-6258237beca2\n",
    "- https://rpubs.com/tomytjandra/telco-customer-churn\n",
    "- https://www.wificolony.com/single-post/2019/02/01/5-cara-mengurangi-tingkat-churning-pelanggan\n"
   ]
  },
  {
   "cell_type": "markdown",
   "metadata": {},
   "source": [
    "**Metric Evaluation**\n",
    "\n",
    "\n",
    "*Type 1 error : False Positive*\n",
    "<br>Konsekuensi: membuang biaya dari treatment yang diberikan\n",
    "\n",
    "*Type 2 error : False Negative*\n",
    "<br>Konsekuensi: Kehilangan pelanggan \n",
    "\n",
    "Berdasarkan konsekuensinya, maka kita akan membuat model yang dapat meminimalisir 2 hal:\n",
    "1. Jumlah Treatment yang diberikan kepada pelanggan sehingga harga yang keluar lebih efisien.\n",
    "2. Jumlah pelanggan yang dianggap akan bertahan tetapi justru Churn, sehingga perusahaan akan kehilangan pelanggan dan menjadi rugi.\n",
    "\n"
   ]
  },
  {
   "cell_type": "markdown",
   "metadata": {},
   "source": [
    "## Data Understanding"
   ]
  },
  {
   "cell_type": "markdown",
   "metadata": {},
   "source": [
    "Note : \n",
    "- Dataset tidak seimbang\n",
    "- Sebagian besar feature bersifat kategori \n",
    "\n",
    "Dataset source: https://www.kaggle.com/datasets/blastchar/telco-customer-churn"
   ]
  },
  {
   "cell_type": "markdown",
   "metadata": {},
   "source": [
    "### Attribute Information\n",
    " - Dependents: Apakah pelanggan memiliki tanggungan atau tidak (Yes, No)\n",
    " - Tenure: Jumlah bulan dalam menggunakan produk perusahaan\n",
    " - OnlineSecurity: Apakah pelanggan memiliki keamanan online atau tidak\n",
    " - OnlineBackup: Apakah pelanggan memiliki cadangan online atau tidak\n",
    " - InternetService: Penyedia layanan internet pelanggan (DSL, Fiber optic, No)\n",
    "- DeviceProtection: Apakah pelanggan memiliki perlindungan perangkat atau tidak\n",
    "- TechSupport: Apakah pelanggan memiliki dukungan teknis atau tidak\n",
    "- Contract: Ketentuan kontrak berlangganan (Month-to-month, One year, Two year)\n",
    "- PaperlessBilling: Apakah pelanggan memiliki tagihan tanpa kertas atau tidak (Yes, No)\n",
    "- MonthlyCharges: Jumlah pembayaran yang dilakukan setiap bulan\n",
    "- Churn: Apakah pelanggan Churn atau tidak (Yes or No)"
   ]
  },
  {
   "cell_type": "code",
   "execution_count": 1853,
   "metadata": {},
   "outputs": [],
   "source": [
    "import numpy as np \n",
    "import pandas as pd \n",
    "import matplotlib.pyplot as plt \n",
    "import seaborn as sns\n",
    "\n",
    "from sklearn import metrics\n",
    "from sklearn.model_selection import train_test_split\n",
    "# Feature Engineering\n",
    "import category_encoders as ce\n",
    "from sklearn.preprocessing import OneHotEncoder\n",
    "from sklearn.compose import ColumnTransformer\n",
    "from sklearn.pipeline import Pipeline\n",
    "from sklearn.impute import SimpleImputer\n",
    "from sklearn.experimental import enable_iterative_imputer\n",
    "from sklearn.impute import IterativeImputer\n",
    "from sklearn.preprocessing import StandardScaler, PolynomialFeatures, RobustScaler,MinMaxScaler\n",
    "# Model Selection\n",
    "from sklearn.ensemble import RandomForestClassifier\n",
    "from sklearn.ensemble import AdaBoostClassifier\n",
    "from sklearn.ensemble import GradientBoostingClassifier\n",
    "from xgboost.sklearn import XGBClassifier\n",
    "from sklearn.tree import DecisionTreeClassifier, plot_tree\n",
    "from sklearn.linear_model import LogisticRegression\n",
    "from sklearn.neighbors import KNeighborsClassifier\n",
    "from sklearn.ensemble import VotingClassifier, RandomForestClassifier\n",
    "from sklearn.tree import plot_tree, DecisionTreeClassifier\n",
    "from sklearn.model_selection import cross_val_score, StratifiedKFold\n",
    "from sklearn.metrics import accuracy_score, confusion_matrix, recall_score, precision_score, classification_report, f1_score\n",
    "from sklearn.metrics import roc_curve, roc_auc_score, plot_roc_curve, precision_recall_curve, average_precision_score, plot_precision_recall_curve\n",
    "\n",
    "from imblearn.over_sampling import RandomOverSampler, SMOTE, SMOTENC\n",
    "from imblearn.under_sampling import RandomUnderSampler, NearMiss\n",
    "from imblearn.pipeline import Pipeline\n",
    "\n",
    "from sklearn.model_selection import GridSearchCV, RandomizedSearchCV\n",
    "\n",
    "\n",
    "import warnings\n",
    "warnings.filterwarnings('ignore')"
   ]
  },
  {
   "cell_type": "code",
   "execution_count": 1854,
   "metadata": {},
   "outputs": [
    {
     "data": {
      "text/html": [
       "<div>\n",
       "<style scoped>\n",
       "    .dataframe tbody tr th:only-of-type {\n",
       "        vertical-align: middle;\n",
       "    }\n",
       "\n",
       "    .dataframe tbody tr th {\n",
       "        vertical-align: top;\n",
       "    }\n",
       "\n",
       "    .dataframe thead th {\n",
       "        text-align: right;\n",
       "    }\n",
       "</style>\n",
       "<table border=\"1\" class=\"dataframe\">\n",
       "  <thead>\n",
       "    <tr style=\"text-align: right;\">\n",
       "      <th></th>\n",
       "      <th>Dependents</th>\n",
       "      <th>tenure</th>\n",
       "      <th>OnlineSecurity</th>\n",
       "      <th>OnlineBackup</th>\n",
       "      <th>InternetService</th>\n",
       "      <th>DeviceProtection</th>\n",
       "      <th>TechSupport</th>\n",
       "      <th>Contract</th>\n",
       "      <th>PaperlessBilling</th>\n",
       "      <th>MonthlyCharges</th>\n",
       "      <th>Churn</th>\n",
       "    </tr>\n",
       "  </thead>\n",
       "  <tbody>\n",
       "    <tr>\n",
       "      <th>0</th>\n",
       "      <td>Yes</td>\n",
       "      <td>9</td>\n",
       "      <td>No</td>\n",
       "      <td>No</td>\n",
       "      <td>DSL</td>\n",
       "      <td>Yes</td>\n",
       "      <td>Yes</td>\n",
       "      <td>Month-to-month</td>\n",
       "      <td>Yes</td>\n",
       "      <td>72.90</td>\n",
       "      <td>Yes</td>\n",
       "    </tr>\n",
       "    <tr>\n",
       "      <th>1</th>\n",
       "      <td>No</td>\n",
       "      <td>14</td>\n",
       "      <td>No</td>\n",
       "      <td>Yes</td>\n",
       "      <td>Fiber optic</td>\n",
       "      <td>Yes</td>\n",
       "      <td>No</td>\n",
       "      <td>Month-to-month</td>\n",
       "      <td>Yes</td>\n",
       "      <td>82.65</td>\n",
       "      <td>No</td>\n",
       "    </tr>\n",
       "    <tr>\n",
       "      <th>2</th>\n",
       "      <td>No</td>\n",
       "      <td>64</td>\n",
       "      <td>Yes</td>\n",
       "      <td>No</td>\n",
       "      <td>DSL</td>\n",
       "      <td>Yes</td>\n",
       "      <td>Yes</td>\n",
       "      <td>Two year</td>\n",
       "      <td>No</td>\n",
       "      <td>47.85</td>\n",
       "      <td>Yes</td>\n",
       "    </tr>\n",
       "    <tr>\n",
       "      <th>3</th>\n",
       "      <td>No</td>\n",
       "      <td>72</td>\n",
       "      <td>Yes</td>\n",
       "      <td>Yes</td>\n",
       "      <td>DSL</td>\n",
       "      <td>Yes</td>\n",
       "      <td>Yes</td>\n",
       "      <td>Two year</td>\n",
       "      <td>No</td>\n",
       "      <td>69.65</td>\n",
       "      <td>No</td>\n",
       "    </tr>\n",
       "    <tr>\n",
       "      <th>4</th>\n",
       "      <td>No</td>\n",
       "      <td>3</td>\n",
       "      <td>No internet service</td>\n",
       "      <td>No internet service</td>\n",
       "      <td>No</td>\n",
       "      <td>No internet service</td>\n",
       "      <td>No internet service</td>\n",
       "      <td>Month-to-month</td>\n",
       "      <td>Yes</td>\n",
       "      <td>23.60</td>\n",
       "      <td>No</td>\n",
       "    </tr>\n",
       "    <tr>\n",
       "      <th>...</th>\n",
       "      <td>...</td>\n",
       "      <td>...</td>\n",
       "      <td>...</td>\n",
       "      <td>...</td>\n",
       "      <td>...</td>\n",
       "      <td>...</td>\n",
       "      <td>...</td>\n",
       "      <td>...</td>\n",
       "      <td>...</td>\n",
       "      <td>...</td>\n",
       "      <td>...</td>\n",
       "    </tr>\n",
       "    <tr>\n",
       "      <th>4925</th>\n",
       "      <td>No</td>\n",
       "      <td>15</td>\n",
       "      <td>No</td>\n",
       "      <td>No</td>\n",
       "      <td>Fiber optic</td>\n",
       "      <td>Yes</td>\n",
       "      <td>Yes</td>\n",
       "      <td>Month-to-month</td>\n",
       "      <td>Yes</td>\n",
       "      <td>103.45</td>\n",
       "      <td>No</td>\n",
       "    </tr>\n",
       "    <tr>\n",
       "      <th>4926</th>\n",
       "      <td>Yes</td>\n",
       "      <td>10</td>\n",
       "      <td>No</td>\n",
       "      <td>No</td>\n",
       "      <td>Fiber optic</td>\n",
       "      <td>Yes</td>\n",
       "      <td>Yes</td>\n",
       "      <td>Month-to-month</td>\n",
       "      <td>Yes</td>\n",
       "      <td>91.10</td>\n",
       "      <td>No</td>\n",
       "    </tr>\n",
       "    <tr>\n",
       "      <th>4927</th>\n",
       "      <td>No</td>\n",
       "      <td>58</td>\n",
       "      <td>No internet service</td>\n",
       "      <td>No internet service</td>\n",
       "      <td>No</td>\n",
       "      <td>No internet service</td>\n",
       "      <td>No internet service</td>\n",
       "      <td>Two year</td>\n",
       "      <td>No</td>\n",
       "      <td>20.75</td>\n",
       "      <td>No</td>\n",
       "    </tr>\n",
       "    <tr>\n",
       "      <th>4928</th>\n",
       "      <td>No</td>\n",
       "      <td>1</td>\n",
       "      <td>No</td>\n",
       "      <td>No</td>\n",
       "      <td>Fiber optic</td>\n",
       "      <td>No</td>\n",
       "      <td>No</td>\n",
       "      <td>Month-to-month</td>\n",
       "      <td>Yes</td>\n",
       "      <td>69.75</td>\n",
       "      <td>Yes</td>\n",
       "    </tr>\n",
       "    <tr>\n",
       "      <th>4929</th>\n",
       "      <td>Yes</td>\n",
       "      <td>4</td>\n",
       "      <td>No internet service</td>\n",
       "      <td>No internet service</td>\n",
       "      <td>No</td>\n",
       "      <td>No internet service</td>\n",
       "      <td>No internet service</td>\n",
       "      <td>Month-to-month</td>\n",
       "      <td>No</td>\n",
       "      <td>20.40</td>\n",
       "      <td>No</td>\n",
       "    </tr>\n",
       "  </tbody>\n",
       "</table>\n",
       "<p>4930 rows × 11 columns</p>\n",
       "</div>"
      ],
      "text/plain": [
       "     Dependents  tenure       OnlineSecurity         OnlineBackup  \\\n",
       "0           Yes       9                   No                   No   \n",
       "1            No      14                   No                  Yes   \n",
       "2            No      64                  Yes                   No   \n",
       "3            No      72                  Yes                  Yes   \n",
       "4            No       3  No internet service  No internet service   \n",
       "...         ...     ...                  ...                  ...   \n",
       "4925         No      15                   No                   No   \n",
       "4926        Yes      10                   No                   No   \n",
       "4927         No      58  No internet service  No internet service   \n",
       "4928         No       1                   No                   No   \n",
       "4929        Yes       4  No internet service  No internet service   \n",
       "\n",
       "     InternetService     DeviceProtection          TechSupport  \\\n",
       "0                DSL                  Yes                  Yes   \n",
       "1        Fiber optic                  Yes                   No   \n",
       "2                DSL                  Yes                  Yes   \n",
       "3                DSL                  Yes                  Yes   \n",
       "4                 No  No internet service  No internet service   \n",
       "...              ...                  ...                  ...   \n",
       "4925     Fiber optic                  Yes                  Yes   \n",
       "4926     Fiber optic                  Yes                  Yes   \n",
       "4927              No  No internet service  No internet service   \n",
       "4928     Fiber optic                   No                   No   \n",
       "4929              No  No internet service  No internet service   \n",
       "\n",
       "            Contract PaperlessBilling  MonthlyCharges Churn  \n",
       "0     Month-to-month              Yes           72.90   Yes  \n",
       "1     Month-to-month              Yes           82.65    No  \n",
       "2           Two year               No           47.85   Yes  \n",
       "3           Two year               No           69.65    No  \n",
       "4     Month-to-month              Yes           23.60    No  \n",
       "...              ...              ...             ...   ...  \n",
       "4925  Month-to-month              Yes          103.45    No  \n",
       "4926  Month-to-month              Yes           91.10    No  \n",
       "4927        Two year               No           20.75    No  \n",
       "4928  Month-to-month              Yes           69.75   Yes  \n",
       "4929  Month-to-month               No           20.40    No  \n",
       "\n",
       "[4930 rows x 11 columns]"
      ]
     },
     "execution_count": 1854,
     "metadata": {},
     "output_type": "execute_result"
    }
   ],
   "source": [
    "df = pd.read_csv('data_telco_customer_churn.csv')\n",
    "df"
   ]
  },
  {
   "cell_type": "markdown",
   "metadata": {},
   "source": [
    "## EDA\n"
   ]
  },
  {
   "cell_type": "code",
   "execution_count": 1855,
   "metadata": {},
   "outputs": [
    {
     "name": "stdout",
     "output_type": "stream",
     "text": [
      "<class 'pandas.core.frame.DataFrame'>\n",
      "RangeIndex: 4930 entries, 0 to 4929\n",
      "Data columns (total 11 columns):\n",
      " #   Column            Non-Null Count  Dtype  \n",
      "---  ------            --------------  -----  \n",
      " 0   Dependents        4930 non-null   object \n",
      " 1   tenure            4930 non-null   int64  \n",
      " 2   OnlineSecurity    4930 non-null   object \n",
      " 3   OnlineBackup      4930 non-null   object \n",
      " 4   InternetService   4930 non-null   object \n",
      " 5   DeviceProtection  4930 non-null   object \n",
      " 6   TechSupport       4930 non-null   object \n",
      " 7   Contract          4930 non-null   object \n",
      " 8   PaperlessBilling  4930 non-null   object \n",
      " 9   MonthlyCharges    4930 non-null   float64\n",
      " 10  Churn             4930 non-null   object \n",
      "dtypes: float64(1), int64(1), object(9)\n",
      "memory usage: 423.8+ KB\n"
     ]
    }
   ],
   "source": [
    "df.info()"
   ]
  },
  {
   "cell_type": "markdown",
   "metadata": {},
   "source": [
    "ternyata setelah di cek tidak ada missing value "
   ]
  },
  {
   "cell_type": "code",
   "execution_count": 1856,
   "metadata": {},
   "outputs": [
    {
     "data": {
      "text/plain": [
       "['Dependents',\n",
       " 'OnlineSecurity',\n",
       " 'OnlineBackup',\n",
       " 'InternetService',\n",
       " 'DeviceProtection',\n",
       " 'TechSupport',\n",
       " 'Contract',\n",
       " 'PaperlessBilling',\n",
       " 'Churn']"
      ]
     },
     "execution_count": 1856,
     "metadata": {},
     "output_type": "execute_result"
    }
   ],
   "source": [
    "cat_features = [feature for feature in df.columns if (df[feature].dtypes == 'O')]\n",
    "cat_features"
   ]
  },
  {
   "cell_type": "code",
   "execution_count": 1857,
   "metadata": {},
   "outputs": [
    {
     "name": "stdout",
     "output_type": "stream",
     "text": [
      "Total unique values in Dependents:  2\n",
      "Unique values:  ['Yes' 'No']\n",
      "\n",
      "Total unique values in OnlineSecurity:  3\n",
      "Unique values:  ['No' 'Yes' 'No internet service']\n",
      "\n",
      "Total unique values in OnlineBackup:  3\n",
      "Unique values:  ['No' 'Yes' 'No internet service']\n",
      "\n",
      "Total unique values in InternetService:  3\n",
      "Unique values:  ['DSL' 'Fiber optic' 'No']\n",
      "\n",
      "Total unique values in DeviceProtection:  3\n",
      "Unique values:  ['Yes' 'No internet service' 'No']\n",
      "\n",
      "Total unique values in TechSupport:  3\n",
      "Unique values:  ['Yes' 'No' 'No internet service']\n",
      "\n",
      "Total unique values in Contract:  3\n",
      "Unique values:  ['Month-to-month' 'Two year' 'One year']\n",
      "\n",
      "Total unique values in PaperlessBilling:  2\n",
      "Unique values:  ['Yes' 'No']\n",
      "\n",
      "Total unique values in Churn:  2\n",
      "Unique values:  ['Yes' 'No']\n",
      "\n"
     ]
    }
   ],
   "source": [
    "for i in cat_features:\n",
    "    print(f'Total unique values in {i}: ', df[i].nunique())\n",
    "    print(f'Unique values: ', df[i].unique())\n",
    "    print()"
   ]
  },
  {
   "cell_type": "code",
   "execution_count": 1858,
   "metadata": {},
   "outputs": [
    {
     "data": {
      "text/plain": [
       "No     73.306288\n",
       "Yes    26.693712\n",
       "Name: Churn, dtype: float64"
      ]
     },
     "execution_count": 1858,
     "metadata": {},
     "output_type": "execute_result"
    }
   ],
   "source": [
    "df['Churn'].value_counts() / len(df)*100"
   ]
  },
  {
   "cell_type": "markdown",
   "metadata": {},
   "source": [
    "karena datanya imbalace kita menggunakan f1 score dibandingkan acuracy."
   ]
  },
  {
   "cell_type": "code",
   "execution_count": 1859,
   "metadata": {},
   "outputs": [
    {
     "data": {
      "text/html": [
       "<div>\n",
       "<style scoped>\n",
       "    .dataframe tbody tr th:only-of-type {\n",
       "        vertical-align: middle;\n",
       "    }\n",
       "\n",
       "    .dataframe tbody tr th {\n",
       "        vertical-align: top;\n",
       "    }\n",
       "\n",
       "    .dataframe thead th {\n",
       "        text-align: right;\n",
       "    }\n",
       "</style>\n",
       "<table border=\"1\" class=\"dataframe\">\n",
       "  <thead>\n",
       "    <tr style=\"text-align: right;\">\n",
       "      <th></th>\n",
       "      <th>tenure</th>\n",
       "      <th>MonthlyCharges</th>\n",
       "    </tr>\n",
       "  </thead>\n",
       "  <tbody>\n",
       "    <tr>\n",
       "      <th>count</th>\n",
       "      <td>4930.000000</td>\n",
       "      <td>4930.000000</td>\n",
       "    </tr>\n",
       "    <tr>\n",
       "      <th>mean</th>\n",
       "      <td>32.401217</td>\n",
       "      <td>64.883032</td>\n",
       "    </tr>\n",
       "    <tr>\n",
       "      <th>std</th>\n",
       "      <td>24.501193</td>\n",
       "      <td>29.923960</td>\n",
       "    </tr>\n",
       "    <tr>\n",
       "      <th>min</th>\n",
       "      <td>0.000000</td>\n",
       "      <td>18.800000</td>\n",
       "    </tr>\n",
       "    <tr>\n",
       "      <th>25%</th>\n",
       "      <td>9.000000</td>\n",
       "      <td>37.050000</td>\n",
       "    </tr>\n",
       "    <tr>\n",
       "      <th>50%</th>\n",
       "      <td>29.000000</td>\n",
       "      <td>70.350000</td>\n",
       "    </tr>\n",
       "    <tr>\n",
       "      <th>75%</th>\n",
       "      <td>55.000000</td>\n",
       "      <td>89.850000</td>\n",
       "    </tr>\n",
       "    <tr>\n",
       "      <th>max</th>\n",
       "      <td>72.000000</td>\n",
       "      <td>118.650000</td>\n",
       "    </tr>\n",
       "  </tbody>\n",
       "</table>\n",
       "</div>"
      ],
      "text/plain": [
       "            tenure  MonthlyCharges\n",
       "count  4930.000000     4930.000000\n",
       "mean     32.401217       64.883032\n",
       "std      24.501193       29.923960\n",
       "min       0.000000       18.800000\n",
       "25%       9.000000       37.050000\n",
       "50%      29.000000       70.350000\n",
       "75%      55.000000       89.850000\n",
       "max      72.000000      118.650000"
      ]
     },
     "execution_count": 1859,
     "metadata": {},
     "output_type": "execute_result"
    }
   ],
   "source": [
    "df.describe()"
   ]
  },
  {
   "cell_type": "markdown",
   "metadata": {},
   "source": [
    "Rata-rata, orang yang membayar layanan $ 64,88 dan biaya paling mahal setiap bulan adalah $118,65. Biaya bulanan termurah adalah $$18,25."
   ]
  },
  {
   "cell_type": "code",
   "execution_count": 1860,
   "metadata": {},
   "outputs": [],
   "source": [
    "df['Churn'] = np.where(df['Churn'] == 'Yes', 1, 0)"
   ]
  },
  {
   "cell_type": "code",
   "execution_count": 1861,
   "metadata": {},
   "outputs": [
    {
     "data": {
      "image/png": "[encoded data removed]",
      "text/plain": [
       "<Figure size 432x288 with 1 Axes>"
      ]
     },
     "metadata": {
      "needs_background": "light"
     },
     "output_type": "display_data"
    }
   ],
   "source": [
    "sns.countplot(x='Churn', data=df);\n",
    "plt.show()"
   ]
  },
  {
   "cell_type": "markdown",
   "metadata": {},
   "source": [
    "Plot ini menunjukkan ketidakseimbangan kelas data antara churn dan non-churn. Untuk mengatasi hal ini, resampling akan menjadi pendekatan yang cocok."
   ]
  },
  {
   "cell_type": "code",
   "execution_count": 1862,
   "metadata": {},
   "outputs": [
    {
     "data": {
      "image/png": "[encoded data removed]",
      "text/plain": [
       "<Figure size 432x288 with 1 Axes>"
      ]
     },
     "metadata": {
      "needs_background": "light"
     },
     "output_type": "display_data"
    }
   ],
   "source": [
    "# Perbandingan churn customers pada tiap negara\n",
    "churn_no = df[df.Churn==0]['Dependents']\n",
    "churn_yes = df[df.Churn==1]['Dependents']\n",
    "\n",
    "plt.xlabel('Dependents')\n",
    "plt.ylabel('Number Of Customers')\n",
    "plt.title('Dependents Churn Prediction Visualization')\n",
    "plt.hist([churn_yes, churn_no], color=['red', 'green'], label=['Churn=Yes', 'Churn=No'])\n",
    "plt.legend();"
   ]
  },
  {
   "cell_type": "markdown",
   "metadata": {},
   "source": [
    "Pada plot diatas terlihat pelanggan yang tidak memiliki Tanggungan akan lebih cenderung memutuskan layanan Telekomunikasi."
   ]
  },
  {
   "cell_type": "code",
   "execution_count": 1863,
   "metadata": {},
   "outputs": [
    {
     "data": {
      "image/png": "[encoded data removed]",
      "text/plain": [
       "<Figure size 432x288 with 1 Axes>"
      ]
     },
     "metadata": {
      "needs_background": "light"
     },
     "output_type": "display_data"
    }
   ],
   "source": [
    "# Perbandingan churn customers pada tiap negara\n",
    "churn_no = df[df.Churn==0]['InternetService']\n",
    "churn_yes = df[df.Churn==1]['InternetService']\n",
    "\n",
    "plt.xlabel('InternetService')\n",
    "plt.ylabel('Number Of Customers')\n",
    "plt.title('InternetService Churn Prediction Visualization')\n",
    "plt.hist([churn_yes, churn_no], color=['red', 'green'], label=['Churn=Yes', 'Churn=No'])\n",
    "plt.legend();"
   ]
  },
  {
   "cell_type": "code",
   "execution_count": 1864,
   "metadata": {},
   "outputs": [
    {
     "data": {
      "text/plain": [
       "Churn  InternetService\n",
       "0      DSL                1388\n",
       "       Fiber optic        1256\n",
       "       No                  970\n",
       "1      Fiber optic         916\n",
       "       DSL                 318\n",
       "       No                   82\n",
       "Name: InternetService, dtype: int64"
      ]
     },
     "execution_count": 1864,
     "metadata": {},
     "output_type": "execute_result"
    }
   ],
   "source": [
    "df.groupby('Churn')['InternetService'].value_counts()"
   ]
  },
  {
   "cell_type": "markdown",
   "metadata": {},
   "source": [
    "Internet Service, terlihat di table atas kebanyakan orang menggunakan internet Fiber dan pelanggan yang berlangganan internet Fiber lebih cenderung churn."
   ]
  },
  {
   "cell_type": "markdown",
   "metadata": {},
   "source": [
    "## **Layanan Internet Pelanggan** "
   ]
  },
  {
   "cell_type": "code",
   "execution_count": 1865,
   "metadata": {},
   "outputs": [
    {
     "data": {
      "image/png": "[encoded data removed]",
      "text/plain": [
       "<Figure size 432x288 with 1 Axes>"
      ]
     },
     "metadata": {
      "needs_background": "light"
     },
     "output_type": "display_data"
    }
   ],
   "source": [
    "\n",
    "churn_no = df[df.Churn==0]['OnlineSecurity']\n",
    "churn_yes = df[df.Churn==1]['OnlineSecurity']\n",
    "\n",
    "plt.xlabel('OnlineSecurity')\n",
    "plt.ylabel('Number Of Customers')\n",
    "plt.title('OnlineSecurity Churn Prediction Visualization')\n",
    "plt.hist([churn_yes, churn_no], color=['red', 'green'], label=['Churn=Yes', 'Churn=No'])\n",
    "plt.legend();"
   ]
  },
  {
   "cell_type": "code",
   "execution_count": 1866,
   "metadata": {},
   "outputs": [
    {
     "data": {
      "image/png": "[encoded data removed]",
      "text/plain": [
       "<Figure size 432x288 with 1 Axes>"
      ]
     },
     "metadata": {
      "needs_background": "light"
     },
     "output_type": "display_data"
    }
   ],
   "source": [
    "churn_no = df[df.Churn==0]['OnlineBackup']\n",
    "churn_yes = df[df.Churn==1]['OnlineBackup']\n",
    "\n",
    "plt.xlabel('OnlineBackup')\n",
    "plt.ylabel('Number Of Customers')\n",
    "plt.title('OnlineBackup Churn Prediction Visualization')\n",
    "plt.hist([churn_yes, churn_no], color=['red', 'green'], label=['Churn=Yes', 'Churn=No'])\n",
    "plt.legend();"
   ]
  },
  {
   "cell_type": "code",
   "execution_count": 1867,
   "metadata": {},
   "outputs": [
    {
     "data": {
      "image/png": "[encoded data removed]",
      "text/plain": [
       "<Figure size 432x288 with 1 Axes>"
      ]
     },
     "metadata": {
      "needs_background": "light"
     },
     "output_type": "display_data"
    }
   ],
   "source": [
    "churn_no = df[df.Churn==0]['DeviceProtection']\n",
    "churn_yes = df[df.Churn==1]['DeviceProtection']\n",
    "\n",
    "plt.xlabel('DeviceProtection')\n",
    "plt.ylabel('Number Of Customers')\n",
    "plt.title('DeviceProtection Churn Prediction Visualization')\n",
    "plt.hist([churn_yes, churn_no], color=['red', 'green'], label=['Churn=Yes', 'Churn=No'])\n",
    "plt.legend();"
   ]
  },
  {
   "cell_type": "code",
   "execution_count": 1868,
   "metadata": {},
   "outputs": [
    {
     "data": {
      "image/png": "[encoded data removed]",
      "text/plain": [
       "<Figure size 432x288 with 1 Axes>"
      ]
     },
     "metadata": {
      "needs_background": "light"
     },
     "output_type": "display_data"
    }
   ],
   "source": [
    "churn_no = df[df.Churn==0]['TechSupport']\n",
    "churn_yes = df[df.Churn==1]['TechSupport']\n",
    "\n",
    "plt.xlabel('TechSupport')\n",
    "plt.ylabel('Number Of Customers')\n",
    "plt.title('TechSupport Churn Prediction Visualization')\n",
    "plt.hist([churn_yes, churn_no], color=['red', 'green'], label=['Churn=Yes', 'Churn=No'])\n",
    "plt.legend();"
   ]
  },
  {
   "cell_type": "markdown",
   "metadata": {},
   "source": [
    "Terlihat pada layanan internet cukup meningkatkan pelanggan tidak churn dan tidak berlangganan feature OnlineSecurity, OnlineBackup, DeviceProtection, TechSupport lebih banyak yang churn."
   ]
  },
  {
   "cell_type": "code",
   "execution_count": 1869,
   "metadata": {},
   "outputs": [
    {
     "data": {
      "image/png": "[encoded data removed]",
      "text/plain": [
       "<Figure size 432x288 with 1 Axes>"
      ]
     },
     "metadata": {
      "needs_background": "light"
     },
     "output_type": "display_data"
    }
   ],
   "source": [
    "churn_no = df[df.Churn==0]['Contract']\n",
    "churn_yes = df[df.Churn==1]['Contract']\n",
    "\n",
    "plt.xlabel('Contract')\n",
    "plt.ylabel('Number Of Customers')\n",
    "plt.title('contract Churn Prediction Visualization')\n",
    "plt.hist([churn_yes, churn_no], color=['red', 'green'], label=['Churn=Yes', 'Churn=No'])\n",
    "plt.legend();"
   ]
  },
  {
   "cell_type": "markdown",
   "metadata": {},
   "source": [
    "Pada Feature Contract terlihat Pelanggan dengan kontrak bulanan memiliki tingkat churn lebih tinggi dibandingkan dengan yang mengikuti kontrak tahunan."
   ]
  },
  {
   "cell_type": "code",
   "execution_count": 1870,
   "metadata": {},
   "outputs": [
    {
     "data": {
      "text/plain": [
       "Text(0.5, 1.0, 'Density Distribution of Total Bill')"
      ]
     },
     "execution_count": 1870,
     "metadata": {},
     "output_type": "execute_result"
    },
    {
     "data": {
      "image/png": "[encoded data removed]",
      "text/plain": [
       "<Figure size 864x432 with 1 Axes>"
      ]
     },
     "metadata": {
      "needs_background": "light"
     },
     "output_type": "display_data"
    }
   ],
   "source": [
    "plt.figure(figsize=(12,6))\n",
    "\n",
    "sns.histplot(data=df, x='MonthlyCharges', hue='Churn')\n",
    "\n",
    "plt.title('Density Distribution of Total Bill')"
   ]
  },
  {
   "cell_type": "markdown",
   "metadata": {},
   "source": [
    "Terlihat pada tabel diatas, tingkat churn cenderung lebih besar ketika biaya bulanan tinggi."
   ]
  },
  {
   "cell_type": "markdown",
   "metadata": {},
   "source": [
    "## **Data Splitting**"
   ]
  },
  {
   "cell_type": "code",
   "execution_count": 1871,
   "metadata": {},
   "outputs": [],
   "source": [
    "\n",
    "X = df.drop(['Churn'], axis=1)\n",
    "y = df['Churn']"
   ]
  },
  {
   "cell_type": "markdown",
   "metadata": {},
   "source": [
    "pertama kita define X dan Y, dari EDA sebelumnya didapatkan bahwa Churn sebagai target (Y) dan sisanya adalah Feature(X).  "
   ]
  },
  {
   "cell_type": "code",
   "execution_count": 1872,
   "metadata": {},
   "outputs": [],
   "source": [
    "\n",
    "X_train, X_test, y_train, y_test = train_test_split(\n",
    "    X, \n",
    "    y,\n",
    "    stratify=y,\n",
    "    test_size=0.2,\n",
    "    random_state=0\n",
    ")"
   ]
  },
  {
   "cell_type": "markdown",
   "metadata": {},
   "source": [
    "lalu kita splitting, karena targetnya kategorikal maka kita memakai stratify=yuntuk menyamakan proporsi kelas 0 dan kelas 1 pada train set dan test set. test_size menentukan jumlah data/baris yg digunakan sebagai test set. random_state agar randomize konsisten"
   ]
  },
  {
   "cell_type": "markdown",
   "metadata": {},
   "source": [
    "## **Pre-processing and Data Transform**"
   ]
  },
  {
   "cell_type": "code",
   "execution_count": 1873,
   "metadata": {},
   "outputs": [],
   "source": [
    "# Transformer scheme\n",
    "transformer = ColumnTransformer([\n",
    "    ('onehot', OneHotEncoder(), ['Dependents', 'OnlineSecurity','OnlineBackup','InternetService','DeviceProtection','TechSupport',\n",
    "    'Contract','PaperlessBilling'])\n",
    "], remainder='passthrough')\n",
    "transformer\n",
    "# Scaler\n",
    "scaler = StandardScaler()"
   ]
  },
  {
   "cell_type": "markdown",
   "metadata": {},
   "source": [
    "kemudian prepocessing ada encoding saya disini menggunakan onehotEncoder semua untuk kolom kategorikal karena kategorinya paling banyak 3. "
   ]
  },
  {
   "cell_type": "code",
   "execution_count": 1874,
   "metadata": {},
   "outputs": [],
   "source": [
    "# Define models\n",
    "logreg = LogisticRegression(random_state=0)\n",
    "knn = KNeighborsClassifier(n_neighbors=5)\n",
    "tree = DecisionTreeClassifier(random_state=0)\n",
    "rf = RandomForestClassifier(random_state=0)\n",
    "gbc = GradientBoostingClassifier(random_state=0)\n"
   ]
  },
  {
   "cell_type": "markdown",
   "metadata": {},
   "source": [
    "## **Tanpa Balancing**"
   ]
  },
  {
   "cell_type": "code",
   "execution_count": 1875,
   "metadata": {},
   "outputs": [
    {
     "name": "stdout",
     "output_type": "stream",
     "text": [
      "[0.52150538 0.49468085 0.50753769 0.52068127 0.46753247] KNeighborsClassifier()\n",
      "[0.51690821 0.47085202 0.51508121 0.51467269 0.51627907] DecisionTreeClassifier(random_state=0)\n",
      "[0.59585492 0.59895833 0.5914787  0.56476684 0.56396867] LogisticRegression(random_state=0)\n",
      "[0.54787234 0.49456522 0.52442159 0.515      0.5255102 ] RandomForestClassifier(random_state=0)\n",
      "[0.59042553 0.5613079  0.59183673 0.54881266 0.55434783] GradientBoostingClassifier(random_state=0)\n"
     ]
    }
   ],
   "source": [
    "\n",
    "\n",
    "models = [knn, tree, logreg,rf, gbc]\n",
    "\n",
    "score = []\n",
    "nilai_mean = []\n",
    "nilai_std = []\n",
    "\n",
    "for i in models:\n",
    "\n",
    "    skfold = StratifiedKFold(n_splits=5, shuffle=True, random_state=0)\n",
    "\n",
    "    model_pipe = Pipeline([\n",
    "        ('transform', transformer),\n",
    "        ('scale', scaler),\n",
    "        ('model', i)\n",
    "    ])\n",
    "\n",
    "    model_cv = cross_val_score(\n",
    "        model_pipe, \n",
    "        X_train, \n",
    "        y_train, \n",
    "        cv=skfold, \n",
    "        scoring='f1', \n",
    "        error_score='raise'\n",
    "        )\n",
    "\n",
    "    score.append(model_cv)\n",
    "    nilai_mean.append(model_cv.mean())\n",
    "    nilai_std.append(model_cv.std())\n",
    "\n",
    "    print(model_cv, i)"
   ]
  },
  {
   "cell_type": "code",
   "execution_count": 1876,
   "metadata": {},
   "outputs": [
    {
     "data": {
      "text/html": [
       "<div>\n",
       "<style scoped>\n",
       "    .dataframe tbody tr th:only-of-type {\n",
       "        vertical-align: middle;\n",
       "    }\n",
       "\n",
       "    .dataframe tbody tr th {\n",
       "        vertical-align: top;\n",
       "    }\n",
       "\n",
       "    .dataframe thead th {\n",
       "        text-align: right;\n",
       "    }\n",
       "</style>\n",
       "<table border=\"1\" class=\"dataframe\">\n",
       "  <thead>\n",
       "    <tr style=\"text-align: right;\">\n",
       "      <th></th>\n",
       "      <th>model</th>\n",
       "      <th>mean</th>\n",
       "      <th>std</th>\n",
       "    </tr>\n",
       "  </thead>\n",
       "  <tbody>\n",
       "    <tr>\n",
       "      <th>0</th>\n",
       "      <td>KNeighborsClassifier()</td>\n",
       "      <td>0.502388</td>\n",
       "      <td>0.020005</td>\n",
       "    </tr>\n",
       "    <tr>\n",
       "      <th>1</th>\n",
       "      <td>DecisionTreeClassifier(random_state=0)</td>\n",
       "      <td>0.506759</td>\n",
       "      <td>0.017971</td>\n",
       "    </tr>\n",
       "    <tr>\n",
       "      <th>2</th>\n",
       "      <td>LogisticRegression(random_state=0)</td>\n",
       "      <td>0.583005</td>\n",
       "      <td>0.015404</td>\n",
       "    </tr>\n",
       "    <tr>\n",
       "      <th>3</th>\n",
       "      <td>RandomForestClassifier(random_state=0)</td>\n",
       "      <td>0.521474</td>\n",
       "      <td>0.017250</td>\n",
       "    </tr>\n",
       "    <tr>\n",
       "      <th>4</th>\n",
       "      <td>GradientBoostingClassifier(random_state=0)</td>\n",
       "      <td>0.569346</td>\n",
       "      <td>0.018228</td>\n",
       "    </tr>\n",
       "  </tbody>\n",
       "</table>\n",
       "</div>"
      ],
      "text/plain": [
       "                                        model      mean       std\n",
       "0                      KNeighborsClassifier()  0.502388  0.020005\n",
       "1      DecisionTreeClassifier(random_state=0)  0.506759  0.017971\n",
       "2          LogisticRegression(random_state=0)  0.583005  0.015404\n",
       "3      RandomForestClassifier(random_state=0)  0.521474  0.017250\n",
       "4  GradientBoostingClassifier(random_state=0)  0.569346  0.018228"
      ]
     },
     "execution_count": 1876,
     "metadata": {},
     "output_type": "execute_result"
    }
   ],
   "source": [
    "pd.DataFrame({\n",
    "    'model':[knn, tree, logreg,rf, gbc],\n",
    "    'mean':nilai_mean,\n",
    "    'std':nilai_std\n",
    "})"
   ]
  },
  {
   "cell_type": "markdown",
   "metadata": {},
   "source": [
    "disini saya mencoba tidak treatment imbalance dahulu. Pertama saya cross validasi mencari algoritma terbaik tanpa menggunakan treatment imbalance. saya disini mencari model yang terbaik diantaranya ada model KNN, Decision Tree, LogisticRegression, RandomForest, dan gradient Boosting. Menggunakan stratifiedKfold untuk splitting. lalu hasilnya yang paling tinggi rata-rata 0.58 olej model logisticRegresion."
   ]
  },
  {
   "cell_type": "markdown",
   "metadata": {},
   "source": [
    "## Test Oversampling(Balancing)"
   ]
  },
  {
   "cell_type": "code",
   "execution_count": 1877,
   "metadata": {},
   "outputs": [
    {
     "name": "stdout",
     "output_type": "stream",
     "text": [
      "[0.58299595 0.54043393 0.58574181 0.54863813 0.57480315] KNeighborsClassifier()\n",
      "[0.56703297 0.5115304  0.52928416 0.5408805  0.54077253] DecisionTreeClassifier(random_state=0)\n",
      "[0.62357414 0.61393597 0.64102564 0.62942272 0.61818182] LogisticRegression(random_state=0)\n",
      "[0.56206089 0.54587156 0.56621005 0.53947368 0.57142857] RandomForestClassifier(random_state=0)\n",
      "[0.6        0.63261297 0.63547758 0.63238095 0.60990099] GradientBoostingClassifier(random_state=0)\n"
     ]
    }
   ],
   "source": [
    "\n",
    "models = [knn, tree, logreg,rf, gbc]\n",
    "\n",
    "score = []\n",
    "nilai_mean = []\n",
    "nilai_std = []\n",
    "\n",
    "for i in models:\n",
    "\n",
    "    smote = SMOTE(random_state=0)\n",
    "    skfold = StratifiedKFold(n_splits=5, shuffle=True, random_state=0)\n",
    "\n",
    "    model_pipe = Pipeline([\n",
    "        ('transform', transformer),\n",
    "        ('scale', scaler),\n",
    "        ('balancing', smote),\n",
    "        ('model', i)\n",
    "    ])\n",
    "\n",
    "    model_cv = cross_val_score(\n",
    "        model_pipe, \n",
    "        X_train, \n",
    "        y_train, \n",
    "        cv=skfold, \n",
    "        scoring='f1', \n",
    "        error_score='raise'\n",
    "        )\n",
    "\n",
    "    score.append(model_cv)\n",
    "    nilai_mean.append(model_cv.mean())\n",
    "    nilai_std.append(model_cv.std())\n",
    "\n",
    "    print(model_cv, i)"
   ]
  },
  {
   "cell_type": "code",
   "execution_count": 1878,
   "metadata": {},
   "outputs": [
    {
     "data": {
      "text/html": [
       "<div>\n",
       "<style scoped>\n",
       "    .dataframe tbody tr th:only-of-type {\n",
       "        vertical-align: middle;\n",
       "    }\n",
       "\n",
       "    .dataframe tbody tr th {\n",
       "        vertical-align: top;\n",
       "    }\n",
       "\n",
       "    .dataframe thead th {\n",
       "        text-align: right;\n",
       "    }\n",
       "</style>\n",
       "<table border=\"1\" class=\"dataframe\">\n",
       "  <thead>\n",
       "    <tr style=\"text-align: right;\">\n",
       "      <th></th>\n",
       "      <th>model</th>\n",
       "      <th>mean</th>\n",
       "      <th>std</th>\n",
       "    </tr>\n",
       "  </thead>\n",
       "  <tbody>\n",
       "    <tr>\n",
       "      <th>0</th>\n",
       "      <td>KNeighborsClassifier()</td>\n",
       "      <td>0.566523</td>\n",
       "      <td>0.018492</td>\n",
       "    </tr>\n",
       "    <tr>\n",
       "      <th>1</th>\n",
       "      <td>DecisionTreeClassifier(random_state=0)</td>\n",
       "      <td>0.537900</td>\n",
       "      <td>0.018086</td>\n",
       "    </tr>\n",
       "    <tr>\n",
       "      <th>2</th>\n",
       "      <td>LogisticRegression(random_state=0)</td>\n",
       "      <td>0.625228</td>\n",
       "      <td>0.009456</td>\n",
       "    </tr>\n",
       "    <tr>\n",
       "      <th>3</th>\n",
       "      <td>RandomForestClassifier(random_state=0)</td>\n",
       "      <td>0.557009</td>\n",
       "      <td>0.012244</td>\n",
       "    </tr>\n",
       "    <tr>\n",
       "      <th>4</th>\n",
       "      <td>GradientBoostingClassifier(random_state=0)</td>\n",
       "      <td>0.622074</td>\n",
       "      <td>0.014369</td>\n",
       "    </tr>\n",
       "  </tbody>\n",
       "</table>\n",
       "</div>"
      ],
      "text/plain": [
       "                                        model      mean       std\n",
       "0                      KNeighborsClassifier()  0.566523  0.018492\n",
       "1      DecisionTreeClassifier(random_state=0)  0.537900  0.018086\n",
       "2          LogisticRegression(random_state=0)  0.625228  0.009456\n",
       "3      RandomForestClassifier(random_state=0)  0.557009  0.012244\n",
       "4  GradientBoostingClassifier(random_state=0)  0.622074  0.014369"
      ]
     },
     "execution_count": 1878,
     "metadata": {},
     "output_type": "execute_result"
    }
   ],
   "source": [
    "pd.DataFrame({\n",
    "    'model':[knn, tree, logreg,rf, gbc],\n",
    "    'mean':nilai_mean,\n",
    "    'std':nilai_std\n",
    "})"
   ]
  },
  {
   "cell_type": "markdown",
   "metadata": {},
   "source": [
    "Selanjutnya disini pertama menggunakan cross validasi menggunakan treatment imbalance yaitu menggunakan Smote. Menggunakan F1 score karena datanya imbalance tidak mungkin menggunakan accuracy. Sehingga disini memperoleh hasilnya meningkat paling bagus model logistic regresion yang paling tinggi nilai rata-ratanya dan paling kecil nilai standar deviasinya"
   ]
  },
  {
   "cell_type": "markdown",
   "metadata": {},
   "source": [
    "## **Tuning the benchmark model**"
   ]
  },
  {
   "cell_type": "code",
   "execution_count": 1879,
   "metadata": {},
   "outputs": [
    {
     "data": {
      "text/plain": [
       "GridSearchCV(cv=StratifiedKFold(n_splits=5, random_state=None, shuffle=False),\n",
       "             estimator=Pipeline(steps=[('transform',\n",
       "                                        ColumnTransformer(remainder='passthrough',\n",
       "                                                          transformers=[('onehot',\n",
       "                                                                         OneHotEncoder(),\n",
       "                                                                         ['Dependents',\n",
       "                                                                          'OnlineSecurity',\n",
       "                                                                          'OnlineBackup',\n",
       "                                                                          'InternetService',\n",
       "                                                                          'DeviceProtection',\n",
       "                                                                          'TechSupport',\n",
       "                                                                          'Contract',\n",
       "                                                                          'PaperlessBilling'])])),\n",
       "                                       ('scale', StandardScaler()),\n",
       "                                       ('balancing', SMOTE(random_state=0)),\n",
       "                                       ('model', LogisticRegression())]),\n",
       "             n_jobs=-1,\n",
       "             param_grid={'model__C': [100, 10, 1, 0.1, 0.01, 0.001],\n",
       "                         'model__solver': ['liblinear', 'newton-cg', 'saga']},\n",
       "             scoring='f1')"
      ]
     },
     "execution_count": 1879,
     "metadata": {},
     "output_type": "execute_result"
    }
   ],
   "source": [
    "\n",
    "smote = SMOTE(random_state=0)\n",
    "model = LogisticRegression()\n",
    "\n",
    "model_pipe = Pipeline([\n",
    "    ('transform', transformer),\n",
    "    ('scale', scaler),\n",
    "    ('balancing', smote),\n",
    "    ('model', model)\n",
    "])\n",
    "\n",
    "\n",
    "hyperparam_space = {\n",
    "    'model__C':[100, 10, 1, 0.1, 0.01, 0.001],\n",
    "    'model__solver':['liblinear','newton-cg','saga']\n",
    "}\n",
    "\n",
    "\n",
    "skf = StratifiedKFold(n_splits = 5)\n",
    "\n",
    "\n",
    "grid_search = GridSearchCV(\n",
    "    model_pipe,\n",
    "    param_grid = hyperparam_space, \n",
    "    cv = skf, \n",
    "    scoring = 'f1', \n",
    "    n_jobs = -1\n",
    ")\n",
    "\n",
    "grid_search.fit(X_train, y_train)"
   ]
  },
  {
   "cell_type": "code",
   "execution_count": 1880,
   "metadata": {},
   "outputs": [
    {
     "name": "stdout",
     "output_type": "stream",
     "text": [
      "Best score: 0.6283354290417444\n",
      "Best params: {'model__C': 0.01, 'model__solver': 'newton-cg'}\n"
     ]
    }
   ],
   "source": [
    "print('Best score:', grid_search.best_score_)\n",
    "print('Best params:', grid_search.best_params_)"
   ]
  },
  {
   "cell_type": "markdown",
   "metadata": {},
   "source": [
    "Berikutnya disini di tunning menggunakan model logisticregresion. Setelah diTunning bisa menaikan sedikit score. menggunakan standarScaler lalu mencoba ganti scalernya tetapi tidak meningkat untuk model logistik regresion karena scaler berpengaruh terhadap model knn, decision tree dan lainnya. Menggunakan GridSearchCV untuk semuanya dicari menjadi bisa maksimal. \n",
    "Terlihat bahwa setelah di tunning Hasil best score bisa 0.628 dan kita mendapatkan best parameter logisticregresion."
   ]
  },
  {
   "cell_type": "markdown",
   "metadata": {},
   "source": [
    "## **Model Prediction in Test Set**"
   ]
  },
  {
   "cell_type": "code",
   "execution_count": 1881,
   "metadata": {},
   "outputs": [
    {
     "name": "stdout",
     "output_type": "stream",
     "text": [
      "              precision    recall  f1-score   support\n",
      "\n",
      "           0       0.91      0.72      0.80       723\n",
      "           1       0.51      0.79      0.62       263\n",
      "\n",
      "    accuracy                           0.74       986\n",
      "   macro avg       0.71      0.76      0.71       986\n",
      "weighted avg       0.80      0.74      0.76       986\n",
      "\n"
     ]
    }
   ],
   "source": [
    "smote = SMOTE(random_state=0)\n",
    "model =  LogisticRegression()\n",
    "\n",
    "estimator = Pipeline([\n",
    "    ('transform', transformer),\n",
    "    ('scale', scaler),\n",
    "    ('balancing', smote),\n",
    "    ('model', model)\n",
    "])\n",
    "\n",
    "estimator.fit(X_train,y_train)\n",
    "y_pred = estimator.predict(X_test)\n",
    "\n",
    "f1_before= f1_score(y_test,y_pred)\n",
    "f1_before\n",
    "\n",
    "print(classification_report(y_test, y_pred))"
   ]
  },
  {
   "cell_type": "code",
   "execution_count": 1882,
   "metadata": {},
   "outputs": [
    {
     "data": {
      "text/plain": [
       "0.6199701937406855"
      ]
     },
     "execution_count": 1882,
     "metadata": {},
     "output_type": "execute_result"
    }
   ],
   "source": [
    "model_final = grid_search.best_estimator_\n",
    "\n",
    "model_final.fit(X_train, y_train)\n",
    "#predict\n",
    "y_pred_tuning = model_final.predict(X_test)\n",
    "#metric evaluation\n",
    "f1_best= f1_score(y_test,y_pred_tuning)\n",
    "f1_best\n"
   ]
  },
  {
   "cell_type": "code",
   "execution_count": 1883,
   "metadata": {},
   "outputs": [
    {
     "name": "stdout",
     "output_type": "stream",
     "text": [
      "              precision    recall  f1-score   support\n",
      "\n",
      "           0       0.90      0.72      0.80       723\n",
      "           1       0.51      0.79      0.62       263\n",
      "\n",
      "    accuracy                           0.74       986\n",
      "   macro avg       0.71      0.76      0.71       986\n",
      "weighted avg       0.80      0.74      0.75       986\n",
      "\n"
     ]
    }
   ],
   "source": [
    "print(classification_report(y_test, y_pred_tuning))"
   ]
  },
  {
   "cell_type": "markdown",
   "metadata": {},
   "source": [
    "Comparison of before and after tuning"
   ]
  },
  {
   "cell_type": "code",
   "execution_count": 1884,
   "metadata": {},
   "outputs": [
    {
     "data": {
      "text/html": [
       "<div>\n",
       "<style scoped>\n",
       "    .dataframe tbody tr th:only-of-type {\n",
       "        vertical-align: middle;\n",
       "    }\n",
       "\n",
       "    .dataframe tbody tr th {\n",
       "        vertical-align: top;\n",
       "    }\n",
       "\n",
       "    .dataframe thead th {\n",
       "        text-align: right;\n",
       "    }\n",
       "</style>\n",
       "<table border=\"1\" class=\"dataframe\">\n",
       "  <thead>\n",
       "    <tr style=\"text-align: right;\">\n",
       "      <th></th>\n",
       "      <th>metrics</th>\n",
       "      <th>f1</th>\n",
       "    </tr>\n",
       "  </thead>\n",
       "  <tbody>\n",
       "    <tr>\n",
       "      <th>0</th>\n",
       "      <td>Before tuning</td>\n",
       "      <td>0.622024</td>\n",
       "    </tr>\n",
       "    <tr>\n",
       "      <th>1</th>\n",
       "      <td>After tuning</td>\n",
       "      <td>0.619970</td>\n",
       "    </tr>\n",
       "  </tbody>\n",
       "</table>\n",
       "</div>"
      ],
      "text/plain": [
       "         metrics        f1\n",
       "0  Before tuning  0.622024\n",
       "1   After tuning  0.619970"
      ]
     },
     "execution_count": 1884,
     "metadata": {},
     "output_type": "execute_result"
    }
   ],
   "source": [
    "pd.DataFrame({\n",
    "    'metrics':['Before tuning','After tuning'],\n",
    "    'f1':[f1_before,f1_best]\n",
    "\n",
    "})"
   ]
  },
  {
   "cell_type": "markdown",
   "metadata": {},
   "source": [
    "Terlihat bahwa model Logisticregresion sebelum kita tuning hyperparameternya memiliki nilai F1-Score yang lebih kecil sedikit pada test set, meskipun nilai nya lebih tinggi pada training set."
   ]
  },
  {
   "cell_type": "markdown",
   "metadata": {},
   "source": [
    "## Conclusion & Recommendation"
   ]
  },
  {
   "cell_type": "code",
   "execution_count": 1885,
   "metadata": {},
   "outputs": [
    {
     "data": {
      "image/png": "[encoded data removed]",
      "text/plain": [
       "<Figure size 576x360 with 2 Axes>"
      ]
     },
     "metadata": {
      "needs_background": "light"
     },
     "output_type": "display_data"
    }
   ],
   "source": [
    "f, ax = plt.subplots(figsize=(8, 5))\n",
    "sns.heatmap(confusion_matrix(y_test, y_pred), annot=True, fmt='.0f', ax=ax)\n",
    "plt.xlabel('y Prediksi')\n",
    "plt.ylabel('y Aktual');"
   ]
  },
  {
   "cell_type": "markdown",
   "metadata": {},
   "source": [
    "### Conclusion\n",
    "\n",
    "Hal-hal yang dapat dikonklusikan berdasarkan hasil classification report:\n",
    "- Berdasarkan tabel diatas terdapat 200 pelanggan yang tidak menerima treatment padahal memang tidak akan churn dan terdapat 54 menerima treatment dan memang akan churn.\n",
    "- Kita dapat memprediksi 523 customer yang tidak churn dengan tepat, dan memprediksi 209 customer yang churn dengan tepat.\n",
    "- Tidak terdapat perbedaan signifikan antara hasil sebelum dan sesudah tuning. Karena jumlah sample kelas negatif jauh lebih banyak dari kelas positif, dari confusion matrix plot dapat dilihat bahwa banyak terdapat samples kelas negatif yang bisa menjadi false positive. Sebaliknya, karena sample kelas positif hanya berjumlah sedikit, maka sedikit pula samples kelas positif yang menjadi false negatif. "
   ]
  },
  {
   "cell_type": "markdown",
   "metadata": {},
   "source": [
    "#### Recommendation\n",
    "\n",
    "Hal-hal yang bisa dilakukan untuk mempertahankan pelanggan:\n",
    "- meningkatkan treatment di akhir bulan agar pelanggan melanjutkan kontraknya.\n",
    "- semakin lama durasi kontrak, semakin kecil kemungkinan pelanggan akan churn sehingga lebih perbanyak paketan untuk kontrak yang tahunan.\n",
    "- layanan/treatment sangat berpengaruh untuk pelanggan.\n",
    "- pelanggan lebih tertarik menggunakan layanan internet, dapat memberikan promo yang menarik pada layanan internet."
   ]
  },
  {
   "cell_type": "markdown",
   "metadata": {},
   "source": [
    "Hal-hal yang bisa dilakukan untuk mengembangkan project dan modelnya lebih baik lagi :\n",
    "- Menambah beberapa data/feature lainnya sehingga performa model dapat lebih ditingkatkan.\n",
    "- Mencoba model Machine Learning lainnya, ataupun handling imbalance dengan metode lain dan kemudian di hyperparameter tuning dengan lebih baik.\n",
    "- pengecekan lebih detail."
   ]
  }
 ],
 "metadata": {
  "interpreter": {
   "hash": "c3ad9b97a804b08ecde57791f38ff98027a59ae53cff71cbf060ecad5cdb318e"
  },
  "kernelspec": {
   "display_name": "Python 3.9.7 ('base')",
   "language": "python",
   "name": "python3"
  },
  "language_info": {
   "codemirror_mode": {
    "name": "ipython",
    "version": 3
   },
   "file_extension": ".py",
   "mimetype": "text/x-python",
   "name": "python",
   "nbconvert_exporter": "python",
   "pygments_lexer": "ipython3",
   "version": "3.9.7"
  },
  "orig_nbformat": 4
 },
 "nbformat": 4,
 "nbformat_minor": 2
}
